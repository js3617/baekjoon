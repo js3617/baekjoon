{
 "cells": [
  {
   "cell_type": "code",
   "execution_count": 8,
   "metadata": {},
   "outputs": [
    {
     "name": "stdout",
     "output_type": "stream",
     "text": [
      "1\n"
     ]
    }
   ],
   "source": [
    "a = int(input()) \n",
    "if(a % 4 == 0 and a % 100 != 0 or a % 400 == 0):\n",
    "    print(1)\n",
    "else:\n",
    "    print(0)"
   ]
  },
  {
   "cell_type": "code",
   "execution_count": 35,
   "metadata": {},
   "outputs": [
    {
     "name": "stdout",
     "output_type": "stream",
     "text": [
      "*****\n",
      " ****\n",
      "  ***\n",
      "   **\n",
      "    *\n"
     ]
    }
   ],
   "source": [
    "n = int(input())\n",
    "\n",
    "for i in range(1, n + 1): #n부터 0 까지 (0은 포함하지 않는다) range(시작 숫자, 끝 숫자) -1 씩 줄어든다\n",
    "    print(\" \" * (i - 1) + \"*\" * (n + 1 - i))"
   ]
  },
  {
   "cell_type": "code",
   "execution_count": 1,
   "metadata": {},
   "outputs": [
    {
     "name": "stdout",
     "output_type": "stream",
     "text": [
      "1 0 -1 -1 2 -1 -1 -1 -1 4 3 -1 -1 7 5 -1 -1 -1 -1 -1 -1 -1 -1 -1 -1 -1 "
     ]
    }
   ],
   "source": [
    "a = input()\n",
    "b = 'abcdefghijklmnopqrstuvwxyz'\n",
    "\n",
    "for i in b:\n",
    "    if i in a:\n",
    "        print(a.index(i), end=' ')#index() a에 입력한 값을 i에서 할당하는 것을 뽑는다 몇번째\n",
    "    else:\n",
    "            print(-1, end=' ')"
   ]
  },
  {
   "cell_type": "code",
   "execution_count": 13,
   "metadata": {},
   "outputs": [
    {
     "ename": "TypeError",
     "evalue": "'int' object is not iterable",
     "output_type": "error",
     "traceback": [
      "\u001b[1;31m---------------------------------------------------------------------------\u001b[0m",
      "\u001b[1;31mTypeError\u001b[0m                                 Traceback (most recent call last)",
      "Cell \u001b[1;32mIn[13], line 5\u001b[0m\n\u001b[0;32m      2\u001b[0m x \u001b[39m=\u001b[39m \u001b[39mint\u001b[39m(\u001b[39minput\u001b[39m())\n\u001b[0;32m      3\u001b[0m num \u001b[39m=\u001b[39m \u001b[39mlist\u001b[39m(\u001b[39mmap\u001b[39m(\u001b[39mint\u001b[39m, \u001b[39minput\u001b[39m()\u001b[39m.\u001b[39msplit()))\n\u001b[1;32m----> 5\u001b[0m \u001b[39mfor\u001b[39;00m i \u001b[39min\u001b[39;00m n:\n\u001b[0;32m      6\u001b[0m     \u001b[39mif\u001b[39;00m i \u001b[39min\u001b[39;00m x:\n\u001b[0;32m      7\u001b[0m         \u001b[39mprint\u001b[39m(n\u001b[39m.\u001b[39mindex(i), end \u001b[39m=\u001b[39m \u001b[39m'\u001b[39m\u001b[39m'\u001b[39m)\n",
      "\u001b[1;31mTypeError\u001b[0m: 'int' object is not iterable"
     ]
    }
   ],
   "source": [
    "\n",
    "num = list(map(int, input().split()))\n",
    "\n",
    "for i in n:\n",
    "    if i in x:\n",
    "        print(n.index(i), end = '')\n",
    "    else:\n",
    "        print(end = '')"
   ]
  },
  {
   "cell_type": "code",
   "execution_count": 2,
   "metadata": {},
   "outputs": [
    {
     "name": "stdout",
     "output_type": "stream",
     "text": [
      "1 2 "
     ]
    }
   ],
   "source": [
    "n, x = map(int, input().split())\n",
    "a = list(map(int, input().split()))\n",
    "\n",
    "for i in range(n):\n",
    "     if a[i] < x:\n",
    "        print(a[i], end = ' ')"
   ]
  },
  {
   "cell_type": "code",
   "execution_count": 4,
   "metadata": {},
   "outputs": [
    {
     "name": "stdout",
     "output_type": "stream",
     "text": [
      "No\n"
     ]
    }
   ],
   "source": [
    "n, m = map(int, input().split())\n",
    "\n",
    "result = 'Yes'\n",
    "\n",
    "for _ in range(m):\n",
    "    i = int(input())\n",
    "    k = list(map(int, input().split())) \n",
    "    for a in range(i - 1):\n",
    "        if k[a] < k[a + 1]:\n",
    "            result = 'No'\n",
    "print(result)"
   ]
  },
  {
   "cell_type": "code",
   "execution_count": 2,
   "metadata": {},
   "outputs": [],
   "source": [
    "n, m = map(int, input().split())\n",
    "for _ in range(m): #_ 횟수만 돌때\n",
    "    i = int(input())\n",
    "    k = list(map(int, input().split())) \n",
    "    for a in range(i - 1):\n",
    "        if k[a] < k[a + 1]:\n",
    "            print('Yes')\n",
    "        else:\n",
    "            print('No')"
   ]
  },
  {
   "cell_type": "code",
   "execution_count": 7,
   "metadata": {},
   "outputs": [
    {
     "name": "stdout",
     "output_type": "stream",
     "text": [
      "No\n",
      "Yes\n"
     ]
    },
    {
     "ename": "",
     "evalue": "",
     "output_type": "error",
     "traceback": [
      "\u001b[1;31m현재 셀 또는 이전 셀에서 코드를 실행하는 동안 Kernel이 충돌했습니다. 셀의 코드를 검토하여 오류의 가능한 원인을 식별하세요. 자세한 내용을 보려면 <a href='https://aka.ms/vscodeJupyterKernelCrash'> 여기 </a> 를 클릭하세요. 자세한 내용은 Jupyter <a href='command:jupyter.viewOutput'>로그</a>를 참조하세요."
     ]
    }
   ],
   "source": [
    "n = int(iput())\n",
    "for _ in range(n):\n",
    "    A = list(map(int, input().split()))\n",
    "    for a in range(n - 1):\n"
   ]
  },
  {
   "cell_type": "code",
   "execution_count": 24,
   "metadata": {},
   "outputs": [
    {
     "ename": "ValueError",
     "evalue": "invalid literal for int() with base 10: ''",
     "output_type": "error",
     "traceback": [
      "\u001b[1;31m---------------------------------------------------------------------------\u001b[0m",
      "\u001b[1;31mValueError\u001b[0m                                Traceback (most recent call last)",
      "Cell \u001b[1;32mIn[24], line 2\u001b[0m\n\u001b[0;32m      1\u001b[0m \u001b[39m#17952\u001b[39;00m\n\u001b[1;32m----> 2\u001b[0m n \u001b[39m=\u001b[39m \u001b[39mint\u001b[39;49m(\u001b[39minput\u001b[39;49m())\n\u001b[0;32m      3\u001b[0m score \u001b[39m=\u001b[39m \u001b[39m0\u001b[39m\n\u001b[0;32m      4\u001b[0m count_num \u001b[39m=\u001b[39m []\n",
      "\u001b[1;31mValueError\u001b[0m: invalid literal for int() with base 10: ''"
     ]
    }
   ],
   "source": [
    "#17952\n",
    "n = int(input())\n",
    "score = 0\n",
    "count_num = []\n",
    "\n",
    "for i in range(n):\n",
    "   a = list(map(int, input().split()))\n",
    "   if a[0] == 1: #새로운 과제\n",
    "      count_num.append((a[1], a[2])) #점수 시간 더하기\n",
    "   if count_num:\n",
    "      result, time = count_num.pop() #최근 과제에서 점수와 시간 꺼냄\n",
    "      time -= 1\n",
    "      \n",
    "      if time == 0:\n",
    "         score += result #과제 시간이 0 되면 점수 추가\n",
    "      else:\n",
    "         count_num.append((result, time))#다시 계산\n",
    "\n",
    "print(score)"
   ]
  },
  {
   "cell_type": "markdown",
   "metadata": {},
   "source": []
  },
  {
   "cell_type": "code",
   "execution_count": 26,
   "metadata": {},
   "outputs": [
    {
     "name": "stdout",
     "output_type": "stream",
     "text": [
      "yes\n",
      "no\n",
      "yes\n"
     ]
    }
   ],
   "source": [
    "#6550\n",
    "while True: #반복문\n",
    "        try:\n",
    "                s, t = input().split()\n",
    "                value = 0 \n",
    "                result = 0\n",
    "                for i in range(len(t)):\n",
    "                        if t[i] == s[value]: #순차적으로 t , s 대조\n",
    "                                value += 1 #넘어가면서 맞으면 부분 문자열  1 증가\n",
    "                        if value == len(s): #s의 단어의 길이와 대조\n",
    "                                result = 1 #1이되면\n",
    "                                break #멈추기\n",
    "                if result == 1: #result 가 1이 되면 yes\n",
    "                        print(\"yes\")\n",
    "                else:\n",
    "                        print(\"no\")\n",
    "        except:\n",
    "                break"
   ]
  },
  {
   "cell_type": "code",
   "execution_count": 27,
   "metadata": {},
   "outputs": [
    {
     "ename": "TypeError",
     "evalue": "int() argument must be a string, a bytes-like object or a real number, not 'method'",
     "output_type": "error",
     "traceback": [
      "\u001b[1;31m---------------------------------------------------------------------------\u001b[0m",
      "\u001b[1;31mTypeError\u001b[0m                                 Traceback (most recent call last)",
      "Cell \u001b[1;32mIn[27], line 1\u001b[0m\n\u001b[1;32m----> 1\u001b[0m n \u001b[39m=\u001b[39m \u001b[39mint\u001b[39;49m(\u001b[39minput\u001b[39;49m)\n\u001b[0;32m      2\u001b[0m m \u001b[39m=\u001b[39m \u001b[39mlist\u001b[39m(\u001b[39mmap\u001b[39m(\u001b[39mint\u001b[39m,\u001b[39minput\u001b[39m()\u001b[39m.\u001b[39msplit()))\n\u001b[0;32m      4\u001b[0m h \u001b[39m=\u001b[39m \u001b[39m0\u001b[39m\n",
      "\u001b[1;31mTypeError\u001b[0m: int() argument must be a string, a bytes-like object or a real number, not 'method'"
     ]
    }
   ],
   "source": [
    "#14659\n",
    "n = int(input)\n",
    "m = list(map(int,input().split()))\n",
    "\n",
    "h = 0\n",
    "c = 0\n",
    "result = []\n",
    "\n",
    "for i in m:\n",
    "    if i > h:\n",
    "        \n",
    "   \n"
   ]
  },
  {
   "cell_type": "code",
   "execution_count": 1,
   "metadata": {},
   "outputs": [
    {
     "name": "stdout",
     "output_type": "stream",
     "text": [
      "3\n"
     ]
    }
   ],
   "source": [
    "#17608\n",
    "n = int(input())\n",
    "s = []\n",
    "\n",
    "for _ in range(n):\n",
    "    bar = int(input())\n",
    "\n",
    "    while s and s[-1] <= bar:\n",
    "        s.pop()\n",
    "    s.append(bar)\n",
    "print(len(s))"
   ]
  },
  {
   "cell_type": "code",
   "execution_count": null,
   "metadata": {},
   "outputs": [],
   "source": []
  }
 ],
 "metadata": {
  "kernelspec": {
   "display_name": "Python 3",
   "language": "python",
   "name": "python3"
  },
  "language_info": {
   "codemirror_mode": {
    "name": "ipython",
    "version": 3
   },
   "file_extension": ".py",
   "mimetype": "text/x-python",
   "name": "python",
   "nbconvert_exporter": "python",
   "pygments_lexer": "ipython3",
   "version": "3.11.2"
  },
  "orig_nbformat": 4
 },
 "nbformat": 4,
 "nbformat_minor": 2
}
