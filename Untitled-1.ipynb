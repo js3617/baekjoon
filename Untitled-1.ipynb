{
 "cells": [
  {
   "cell_type": "code",
   "execution_count": null,
   "metadata": {},
   "outputs": [],
   "source": [
    "#17298\n",
    "n = int(input())\n",
    "a = list(map(int,input().split()))\n",
    "result = []\n",
    "\n",
    "for i in range(0,n):\n",
    "    for k in range(i+1,n):\n",
    "        if a[k]>a[i]:\n",
    "            result.append(a[k])\n",
    "            break\n",
    "        else:\n",
    "            result.append(-1)\n",
    "\n",
    "    for t in result:\n",
    "        print(t, end=\" \")"
   ]
  }
 ],
 "metadata": {
  "language_info": {
   "name": "python"
  },
  "orig_nbformat": 4
 },
 "nbformat": 4,
 "nbformat_minor": 2
}
